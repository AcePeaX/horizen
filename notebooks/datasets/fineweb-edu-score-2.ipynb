{
 "cells": [
  {
   "cell_type": "markdown",
   "metadata": {},
   "source": [
    "# 📚 FineWeb-Edu-score-2\n",
    "\n",
    "\n",
    "## 1.3 trillion tokens of the finest educational data the 🌐 web has to offer\n",
    "\n",
    "\n",
    "Let's get started"
   ]
  },
  {
   "cell_type": "code",
   "execution_count": 1,
   "metadata": {},
   "outputs": [],
   "source": [
    "import sys\n",
    "import os\n",
    "\n",
    "\n",
    "dirname = os.path.abspath(os.path.join(os.getcwd(), \"../..\", \"scripts/lib\"))\n",
    "sys.path.append(dirname)"
   ]
  },
  {
   "cell_type": "code",
   "execution_count": 2,
   "metadata": {},
   "outputs": [],
   "source": [
    "from datasets import load_dataset\n",
    "from utils.tokenizer import BPETokenizer, showTokensDecode"
   ]
  },
  {
   "cell_type": "code",
   "execution_count": 3,
   "metadata": {},
   "outputs": [
    {
     "data": {
      "application/vnd.jupyter.widget-view+json": {
       "model_id": "d0b664a38b9142fda2b9e1076808cd49",
       "version_major": 2,
       "version_minor": 0
      },
      "text/plain": [
       "Resolving data files:   0%|          | 0/6625 [00:00<?, ?it/s]"
      ]
     },
     "metadata": {},
     "output_type": "display_data"
    },
    {
     "data": {
      "application/vnd.jupyter.widget-view+json": {
       "model_id": "d5335e6f8933414dbc8752171981174b",
       "version_major": 2,
       "version_minor": 0
      },
      "text/plain": [
       "Resolving data files:   0%|          | 0/76 [00:00<?, ?it/s]"
      ]
     },
     "metadata": {},
     "output_type": "display_data"
    }
   ],
   "source": [
    "fw = load_dataset(\"HuggingFaceFW/fineweb-edu-score-2\", name=\"CC-MAIN-2024-10\", split=\"train\", streaming=True)"
   ]
  },
  {
   "cell_type": "code",
   "execution_count": 4,
   "metadata": {},
   "outputs": [
    {
     "data": {
      "text/plain": [
       "IterableDataset({\n",
       "    features: ['text', 'id', 'dump', 'url', 'file_path', 'language', 'language_score', 'token_count', 'score', 'int_score'],\n",
       "    n_shards: 76\n",
       "})"
      ]
     },
     "execution_count": 4,
     "metadata": {},
     "output_type": "execute_result"
    }
   ],
   "source": [
    "fw"
   ]
  },
  {
   "cell_type": "code",
   "execution_count": 5,
   "metadata": {},
   "outputs": [],
   "source": [
    "data = [chunk for i,chunk in zip(range(30),fw)]"
   ]
  },
  {
   "cell_type": "code",
   "execution_count": 6,
   "metadata": {},
   "outputs": [
    {
     "data": {
      "text/plain": [
       "{'shard_idx': 0, 'shard_example_idx': 30}"
      ]
     },
     "execution_count": 6,
     "metadata": {},
     "output_type": "execute_result"
    }
   ],
   "source": [
    "fw.state_dict()"
   ]
  },
  {
   "cell_type": "markdown",
   "metadata": {},
   "source": [
    "## We want to train the tokenizer on this data\n",
    "\n",
    "Let's import a lot of data."
   ]
  },
  {
   "cell_type": "code",
   "execution_count": 7,
   "metadata": {},
   "outputs": [
    {
     "data": {
      "text/plain": [
       "41956906"
      ]
     },
     "execution_count": 7,
     "metadata": {},
     "output_type": "execute_result"
    }
   ],
   "source": [
    "data = [chunk for i,chunk in zip(range(10000),fw)]\n",
    "\n",
    "sum([len(chunk['text']) for chunk in data])"
   ]
  },
  {
   "cell_type": "markdown",
   "metadata": {},
   "source": [
    "We have now $\\sim 40$ M characters.\n",
    "We will aim for a vocabulary size of 1024, aka 1023 + end of text special character."
   ]
  },
  {
   "cell_type": "code",
   "execution_count": 8,
   "metadata": {},
   "outputs": [],
   "source": [
    "tokenizer = BPETokenizer(special_tokens={\n",
    "    '<|endoftext|>': 1023\n",
    "})"
   ]
  },
  {
   "cell_type": "code",
   "execution_count": 9,
   "metadata": {},
   "outputs": [
    {
     "data": {
      "text/plain": [
       "41966905"
      ]
     },
     "execution_count": 9,
     "metadata": {},
     "output_type": "execute_result"
    }
   ],
   "source": [
    "textData = \" \".join([chunk['text'] for chunk in data])\n",
    "len(textData)"
   ]
  },
  {
   "cell_type": "code",
   "execution_count": 10,
   "metadata": {},
   "outputs": [
    {
     "name": "stdout",
     "output_type": "stream",
     "text": [
      "1024\n"
     ]
    }
   ],
   "source": [
    "if os.path.exists('../../saves/tokenizers/fineweb-edu-1024.tok'):\n",
    "    tokenizer = BPETokenizer.load('../../saves/tokenizers/fineweb-edu-1024.tok')\n",
    "    print(len(tokenizer))"
   ]
  },
  {
   "cell_type": "code",
   "execution_count": 11,
   "metadata": {},
   "outputs": [],
   "source": [
    "desired_length = 1024\n",
    "while len(tokenizer)<desired_length:\n",
    "    tokenizer.addMerges(textData, min(desired_length-len(tokenizer),20), verbose=True)\n",
    "    tokenizer.save('../../saves/tokenizers/fineweb-edu-'+desired_length+'.tok')"
   ]
  },
  {
   "cell_type": "code",
   "execution_count": 12,
   "metadata": {},
   "outputs": [
    {
     "data": {
      "text/plain": [
       "1024"
      ]
     },
     "execution_count": 12,
     "metadata": {},
     "output_type": "execute_result"
    }
   ],
   "source": [
    "tokenizer = BPETokenizer.load('../../saves/tokenizers/fineweb-edu-1024.tok')\n",
    "len(tokenizer)"
   ]
  },
  {
   "cell_type": "code",
   "execution_count": 13,
   "metadata": {},
   "outputs": [
    {
     "name": "stdout",
     "output_type": "stream",
     "text": [
      "\u001b[1m\u001b[30m\u001b[42mH\u001b[0m\u001b[1m\u001b[30m\u001b[43mell\u001b[0m\u001b[1m\u001b[30m\u001b[44mo\u001b[0m\u001b[1m\u001b[30m\u001b[45m there\u001b[0m\u001b[1m\u001b[30m\u001b[46m what\u001b[0m\u001b[1m\u001b[100m do\u001b[0m\u001b[1m\u001b[40m you\u001b[0m\u001b[1m\u001b[30m\u001b[42m want\u001b[0m\u001b[1m\u001b[30m\u001b[43m?\u001b[0m\u001b[1m\u001b[30m\u001b[44m O\u001b[0m\u001b[1m\u001b[30m\u001b[45mh\u001b[0m\u001b[1m\u001b[30m\u001b[46m that\u001b[0m\u001b[1m\u001b[100m's\u001b[0m\u001b[1m\u001b[40m not\u001b[0m\u001b[1m\u001b[30m\u001b[42m b\u001b[0m\u001b[1m\u001b[30m\u001b[43mad\u001b[0m\u001b[1m\u001b[30m\u001b[44m to\u001b[0m\u001b[1m\u001b[30m\u001b[45m be\u001b[0m\u001b[1m\u001b[30m\u001b[46m h\u001b[0m\u001b[1m\u001b[100mon\u001b[0m\u001b[1m\u001b[40mest\u001b[0m\u001b[0m\n"
     ]
    }
   ],
   "source": [
    "showTokensDecode(tokenizer, \"Hello there what do you want? Oh that's not bad to be honest\")"
   ]
  },
  {
   "cell_type": "code",
   "execution_count": 14,
   "metadata": {},
   "outputs": [
    {
     "name": "stdout",
     "output_type": "stream",
     "text": [
      "\u001b[1m\u001b[30m\u001b[42mH\u001b[0m\u001b[1m\u001b[30m\u001b[43mow\u001b[0m\u001b[1m\u001b[30m\u001b[44mever\u001b[0m\u001b[1m\u001b[30m\u001b[45m it\u001b[0m\u001b[1m\u001b[30m\u001b[46m is\u001b[0m\u001b[1m\u001b[100m not\u001b[0m\u001b[1m\u001b[40m sim\u001b[0m\u001b[1m\u001b[30m\u001b[42mp\u001b[0m\u001b[1m\u001b[30m\u001b[43mly\u001b[0m\u001b[1m\u001b[30m\u001b[44m those\u001b[0m\u001b[1m\u001b[30m\u001b[45m who\u001b[0m\u001b[1m\u001b[30m\u001b[46m are\u001b[0m\u001b[1m\u001b[100m tra\u001b[0m\u001b[1m\u001b[40md\u001b[0m\u001b[1m\u001b[30m\u001b[42mit\u001b[0m\u001b[1m\u001b[30m\u001b[43mions\u001b[0m\u001b[1m\u001b[30m\u001b[44m a\u001b[0m\u001b[1m\u001b[30m\u001b[45mw\u001b[0m\u001b[1m\u001b[30m\u001b[46may\u001b[0m\u001b[1m\u001b[100m opt\u001b[0m\u001b[1m\u001b[40mion\u001b[0m\u001b[1m\u001b[30m\u001b[42m pl\u001b[0m\u001b[1m\u001b[30m\u001b[43mans\u001b[0m\u001b[1m\u001b[30m\u001b[44m to\u001b[0m\u001b[1m\u001b[30m\u001b[45m help\u001b[0m\u001b[1m\u001b[30m\u001b[46m you\u001b[0m\u001b[1m\u001b[100m w\u001b[0m\u001b[1m\u001b[40med\u001b[0m\u001b[1m\u001b[30m\u001b[42md\u001b[0m\u001b[1m\u001b[30m\u001b[43ming\u001b[0m\u001b[1m\u001b[30m\u001b[44m just\u001b[0m\u001b[1m\u001b[30m\u001b[45m who\u001b[0m\u001b[1m\u001b[30m\u001b[46m dec\u001b[0m\u001b[1m\u001b[100ml\u001b[0m\u001b[1m\u001b[40mare\u001b[0m\u001b[1m\u001b[30m\u001b[42m that\u001b[0m\u001b[1m\u001b[30m\u001b[43m the\u001b[0m\u001b[1m\u001b[30m\u001b[44m col\u001b[0m\u001b[1m\u001b[30m\u001b[45mle\u001b[0m\u001b[1m\u001b[30m\u001b[46mge\u001b[0m\u001b[1m\u001b[100m has\u001b[0m\u001b[1m\u001b[40m start\u001b[0m\u001b[1m\u001b[30m\u001b[42med\u001b[0m\u001b[1m\u001b[30m\u001b[43m to\u001b[0m\u001b[1m\u001b[30m\u001b[44m bec\u001b[0m\u001b[1m\u001b[30m\u001b[45mome\u001b[0m\u001b[1m\u001b[30m\u001b[46m out\u001b[0m\u001b[1m\u001b[100md\u001b[0m\u001b[1m\u001b[40mated\u001b[0m\u001b[1m\u001b[30m\u001b[42m.\u001b[0m\u001b[1m\u001b[30m\u001b[43m P\u001b[0m\u001b[1m\u001b[30m\u001b[44mart\u001b[0m\u001b[1m\u001b[30m\u001b[45mic\u001b[0m\u001b[1m\u001b[30m\u001b[46mular\u001b[0m\u001b[1m\u001b[100m \u001b[0m\u001b[1m\u001b[40m4\u001b[0m\u001b[1m\u001b[30m\u001b[42m2\u001b[0m\u001b[1m\u001b[30m\u001b[43m%\u001b[0m\u001b[1m\u001b[30m\u001b[44m a\u001b[0m\u001b[1m\u001b[30m\u001b[45mw\u001b[0m\u001b[1m\u001b[30m\u001b[46may\u001b[0m\u001b[1m\u001b[100m from\u001b[0m\u001b[1m\u001b[40m wor\u001b[0m\u001b[1m\u001b[30m\u001b[42mry\u001b[0m\u001b[1m\u001b[30m\u001b[43m about\u001b[0m\u001b[1m\u001b[30m\u001b[44m-\u001b[0m\u001b[1m\u001b[30m\u001b[45md\u001b[0m\u001b[1m\u001b[30m\u001b[46mem\u001b[0m\u001b[1m\u001b[100mon\u001b[0m\u001b[1m\u001b[40mst\u001b[0m\u001b[1m\u001b[30m\u001b[42mr\u001b[0m\u001b[1m\u001b[30m\u001b[43mated\u001b[0m\u001b[1m\u001b[30m\u001b[44m cons\u001b[0m\u001b[1m\u001b[30m\u001b[45merv\u001b[0m\u001b[1m\u001b[30m\u001b[46mat\u001b[0m\u001b[1m\u001b[100mives\u001b[0m\u001b[1m\u001b[40m (\u001b[0m\u001b[1m\u001b[30m\u001b[42mc\u001b[0m\u001b[1m\u001b[30m\u001b[43mom\u001b[0m\u001b[1m\u001b[30m\u001b[44mp\u001b[0m\u001b[1m\u001b[30m\u001b[45mare\u001b[0m\u001b[1m\u001b[30m\u001b[46md\u001b[0m\u001b[1m\u001b[100m with\u001b[0m\u001b[1m\u001b[40m 3\u001b[0m\u001b[1m\u001b[30m\u001b[42m8\u001b[0m\u001b[1m\u001b[30m\u001b[43m%\u001b[0m\u001b[1m\u001b[30m\u001b[44m of\u001b[0m\u001b[1m\u001b[30m\u001b[45m l\u001b[0m\u001b[1m\u001b[30m\u001b[46mib\u001b[0m\u001b[1m\u001b[100mer\u001b[0m\u001b[1m\u001b[40mals\u001b[0m\u001b[1m\u001b[30m\u001b[42m and\u001b[0m\u001b[1m\u001b[30m\u001b[43m 3\u001b[0m\u001b[1m\u001b[30m\u001b[44m4\u001b[0m\u001b[1m\u001b[30m\u001b[45m%\u001b[0m\u001b[1m\u001b[30m\u001b[46m out\u001b[0m\u001b[1m\u001b[100m-\u001b[0m\u001b[1m\u001b[40mo\u001b[0m\u001b[1m\u001b[30m\u001b[42mf\u001b[0m\u001b[1m\u001b[30m\u001b[43m mod\u001b[0m\u001b[1m\u001b[30m\u001b[44mer\u001b[0m\u001b[1m\u001b[30m\u001b[45mates\u001b[0m\u001b[1m\u001b[30m\u001b[46m)\u001b[0m\u001b[1m\u001b[100m s\u001b[0m\u001b[1m\u001b[40may\u001b[0m\u001b[1m\u001b[30m\u001b[42m a\u001b[0m\u001b[1m\u001b[30m\u001b[43m comp\u001b[0m\u001b[1m\u001b[30m\u001b[44mar\u001b[0m\u001b[1m\u001b[30m\u001b[45mable\u001b[0m\u001b[1m\u001b[30m\u001b[46m-\u001b[0m\u001b[1m\u001b[100m reg\u001b[0m\u001b[1m\u001b[40mard\u001b[0m\u001b[1m\u001b[30m\u001b[42ml\u001b[0m\u001b[0m\n"
     ]
    }
   ],
   "source": [
    "showTokensDecode(tokenizer, data[0]['text'][:300])"
   ]
  },
  {
   "cell_type": "code",
   "execution_count": 15,
   "metadata": {},
   "outputs": [
    {
     "name": "stdout",
     "output_type": "stream",
     "text": [
      "The compression rate is x2.57\n"
     ]
    }
   ],
   "source": [
    "a = len(textData)\n",
    "b = len(tokenizer.encode(textData))\n",
    "print(f\"The compression rate is x{a/b:.2f}\")"
   ]
  },
  {
   "cell_type": "markdown",
   "metadata": {},
   "source": [
    "<span style=\"font-size:2.5em;\">\n",
    "    To preprocess the data, execute 'make cook'\n",
    "</span>"
   ]
  },
  {
   "cell_type": "markdown",
   "metadata": {},
   "source": []
  }
 ],
 "metadata": {
  "kernelspec": {
   "display_name": ".venv",
   "language": "python",
   "name": "python3"
  },
  "language_info": {
   "codemirror_mode": {
    "name": "ipython",
    "version": 3
   },
   "file_extension": ".py",
   "mimetype": "text/x-python",
   "name": "python",
   "nbconvert_exporter": "python",
   "pygments_lexer": "ipython3",
   "version": "3.12.4"
  }
 },
 "nbformat": 4,
 "nbformat_minor": 2
}
