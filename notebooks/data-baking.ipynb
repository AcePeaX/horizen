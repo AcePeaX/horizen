{
 "cells": [
  {
   "cell_type": "markdown",
   "metadata": {},
   "source": [
    "Adding route to custom libraries"
   ]
  },
  {
   "cell_type": "code",
   "execution_count": 1,
   "metadata": {},
   "outputs": [],
   "source": [
    "import sys\n",
    "import os\n",
    "\n",
    "\n",
    "dirname = os.path.abspath(os.path.join(os.getcwd(), \"..\", \"scripts/lib\"))\n",
    "sys.path.append(dirname)"
   ]
  },
  {
   "cell_type": "markdown",
   "metadata": {},
   "source": [
    "## Importing libraries"
   ]
  },
  {
   "cell_type": "code",
   "execution_count": 2,
   "metadata": {},
   "outputs": [],
   "source": [
    "import torch\n",
    "\n",
    "from utils.compile import compileFolder\n",
    "from utils.tokenizer import CharTokenizer, END_CHAR"
   ]
  },
  {
   "cell_type": "markdown",
   "metadata": {},
   "source": [
    "## Setting up the data and other"
   ]
  },
  {
   "cell_type": "code",
   "execution_count": 3,
   "metadata": {},
   "outputs": [],
   "source": [
    "# Importing the data\n",
    "raw_data = compileFolder('tate')\n",
    "\n",
    "# Creating the tokenizer\n",
    "tokenizer = CharTokenizer(raw_data)"
   ]
  },
  {
   "cell_type": "markdown",
   "metadata": {},
   "source": [
    "### We will need a proper class to get items from the dataset"
   ]
  },
  {
   "cell_type": "code",
   "execution_count": 4,
   "metadata": {},
   "outputs": [],
   "source": [
    "from torch.utils.data import Dataset\n",
    "\n",
    "class TextChunksDataset(Dataset):\n",
    "    def __init__(self, raw_data, context_length, tokenizer=None) -> None:\n",
    "        super().__init__()\n",
    "        self.data = []\n",
    "        if tokenizer==None:\n",
    "            tokenizer = CharTokenizer(raw_data)\n",
    "        self.tokenizer = tokenizer\n",
    "        self.context_length = context_length\n",
    "        self.mappingArray = []\n",
    "        idx = 0\n",
    "        for chunk in raw_data:\n",
    "            chunkTensor = self.tokenizer.encode([END_CHAR]+list(chunk), False)\n",
    "            self.data.append(chunkTensor)\n",
    "            for i in range(len(chunkTensor)-self.context_length-1):\n",
    "                self.mappingArray.append(idx)\n",
    "                idx+=1\n",
    "            self.mappingArray.append(idx)\n",
    "            idx += self.context_length + 1\n",
    "        self.mappingArray = torch.tensor(self.mappingArray)\n",
    "        self.data = torch.cat(self.data)\n",
    "    \n",
    "    def __len__(self) -> int:\n",
    "        return len(self.mappingArray)\n",
    "    \n",
    "    def __getitem__(self, index, block_size=1) -> torch.Tensor:\n",
    "        if type(index)==int:\n",
    "            return self.data[self.mappingArray[index]:self.mappingArray[index]+self.context_length], self.data[self.mappingArray[index]+self.context_length]\n",
    "        elif type(index)==slice:\n",
    "            L = []\n",
    "            for k in range(index.start or 0,index.stop or len(self),index.step or 1):\n",
    "                L.append(self[k])\n",
    "            return L\n",
    "        "
   ]
  },
  {
   "cell_type": "code",
   "execution_count": 5,
   "metadata": {},
   "outputs": [],
   "source": [
    "textChunksDataset = TextChunksDataset(raw_data, 8, tokenizer)"
   ]
  },
  {
   "cell_type": "code",
   "execution_count": 6,
   "metadata": {},
   "outputs": [
    {
     "name": "stdout",
     "output_type": "stream",
     "text": [
      " underst -> a\n",
      "understa -> n\n",
      "nderstan -> d\n",
      "derstand ->  \n",
      "erstand  -> t\n",
      "rstand t -> h\n",
      "stand th -> i\n",
      "tand thi -> s\n",
      "and this -> ,\n",
      "nd this, -> \n",
      "\n"
     ]
    }
   ],
   "source": [
    "for i in range(600,610):\n",
    "    print(tokenizer.decodeText(textChunksDataset[i][0]),\"->\",tokenizer.decodeText([textChunksDataset[i][1]]))"
   ]
  },
  {
   "cell_type": "markdown",
   "metadata": {},
   "source": [
    "This is the code implemented in `lib/utils/loader.py`"
   ]
  },
  {
   "cell_type": "code",
   "execution_count": 7,
   "metadata": {},
   "outputs": [],
   "source": [
    "from utils.loader import TextChunksDataset"
   ]
  },
  {
   "cell_type": "markdown",
   "metadata": {},
   "source": [
    "## Setting Hyperparameters"
   ]
  },
  {
   "cell_type": "code",
   "execution_count": 8,
   "metadata": {},
   "outputs": [],
   "source": [
    "# The max block size (also known as max context) [in tokens]\n",
    "block_size = 8\n",
    "\n",
    "# How much does the test/validation set represent of the total data\n",
    "test_train_split_ratio = 0.1"
   ]
  },
  {
   "cell_type": "code",
   "execution_count": 9,
   "metadata": {},
   "outputs": [],
   "source": [
    "def split_dataset(data,ratio):\n",
    "    \"\"\"\n",
    "    Returns (train,test)\n",
    "    \"\"\"\n",
    "    if type(data)==list:\n",
    "        data = torch.cat(data)\n",
    "    n = int(len(data)*ratio)\n",
    "    return data[n:], data[:n]\n",
    "    \n",
    "        "
   ]
  },
  {
   "cell_type": "code",
   "execution_count": 10,
   "metadata": {},
   "outputs": [
    {
     "ename": "NameError",
     "evalue": "name 'data' is not defined",
     "output_type": "error",
     "traceback": [
      "\u001b[0;31m---------------------------------------------------------------------------\u001b[0m",
      "\u001b[0;31mNameError\u001b[0m                                 Traceback (most recent call last)",
      "Cell \u001b[0;32mIn[10], line 1\u001b[0m\n\u001b[0;32m----> 1\u001b[0m train, test \u001b[38;5;241m=\u001b[39m split_dataset(\u001b[43mdata\u001b[49m,\u001b[38;5;241m0.1\u001b[39m)\n\u001b[1;32m      2\u001b[0m \u001b[38;5;28mprint\u001b[39m(train\u001b[38;5;241m.\u001b[39mshape)\n\u001b[1;32m      3\u001b[0m \u001b[38;5;28mprint\u001b[39m(test\u001b[38;5;241m.\u001b[39mshape)\n",
      "\u001b[0;31mNameError\u001b[0m: name 'data' is not defined"
     ]
    }
   ],
   "source": [
    "train, test = split_dataset(data,0.1)\n",
    "print(train.shape)\n",
    "print(test.shape)"
   ]
  }
 ],
 "metadata": {
  "kernelspec": {
   "display_name": ".venv",
   "language": "python",
   "name": "python3"
  },
  "language_info": {
   "codemirror_mode": {
    "name": "ipython",
    "version": 3
   },
   "file_extension": ".py",
   "mimetype": "text/x-python",
   "name": "python",
   "nbconvert_exporter": "python",
   "pygments_lexer": "ipython3",
   "version": "3.9.6"
  }
 },
 "nbformat": 4,
 "nbformat_minor": 2
}
