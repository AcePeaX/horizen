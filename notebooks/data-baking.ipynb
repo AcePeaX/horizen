{
 "cells": [
  {
   "cell_type": "markdown",
   "metadata": {},
   "source": [
    "Adding route to custom libraries"
   ]
  },
  {
   "cell_type": "code",
   "execution_count": 1,
   "metadata": {},
   "outputs": [],
   "source": [
    "import sys\n",
    "import os\n",
    "\n",
    "\n",
    "dirname = os.path.abspath(os.path.join(os.getcwd(), \"..\", \"scripts/lib\"))\n",
    "sys.path.append(dirname)"
   ]
  },
  {
   "cell_type": "markdown",
   "metadata": {},
   "source": [
    "## Importing libraries"
   ]
  },
  {
   "cell_type": "code",
   "execution_count": 2,
   "metadata": {},
   "outputs": [],
   "source": [
    "import torch\n",
    "\n",
    "from utils.compile import compileFolder\n",
    "from utils.tokenizer import CharTokenizer, END_CHAR"
   ]
  },
  {
   "cell_type": "markdown",
   "metadata": {},
   "source": [
    "## Setting up the data and other"
   ]
  },
  {
   "cell_type": "code",
   "execution_count": 3,
   "metadata": {},
   "outputs": [],
   "source": [
    "# Importing the data\n",
    "raw_data = compileFolder('tate')\n",
    "\n",
    "# Creating the tokenizer\n",
    "tokenizer = CharTokenizer(raw_data)"
   ]
  },
  {
   "cell_type": "markdown",
   "metadata": {},
   "source": [
    "### We will need a proper class to get items from the dataset"
   ]
  },
  {
   "cell_type": "code",
   "execution_count": 4,
   "metadata": {},
   "outputs": [],
   "source": [
    "from torch.utils.data import Dataset\n",
    "\n",
    "class TextChunksDataset(Dataset):\n",
    "    def __init__(self, raw_data, context_length, tokenizer=None) -> None:\n",
    "        super().__init__()\n",
    "        self.data = []\n",
    "        if tokenizer==None:\n",
    "            tokenizer = CharTokenizer(raw_data)\n",
    "        self.tokenizer = tokenizer\n",
    "        self.context_length = context_length\n",
    "        self.mappingArray = []\n",
    "        idx = 0\n",
    "        for chunk in raw_data:\n",
    "            chunkTensor = self.tokenizer.encode([END_CHAR]+list(chunk), False)\n",
    "            self.data.append(chunkTensor)\n",
    "            for i in range(len(chunkTensor)-self.context_length-1):\n",
    "                self.mappingArray.append(idx)\n",
    "                idx+=1\n",
    "            self.mappingArray.append(idx)\n",
    "            idx += self.context_length + 1\n",
    "        self.mappingArray = torch.tensor(self.mappingArray)\n",
    "        self.data = torch.cat(self.data)\n",
    "    \n",
    "    def __len__(self) -> int:\n",
    "        return len(self.mappingArray)\n",
    "    \n",
    "    def __getitem__(self, index, block_size=1) -> torch.Tensor:\n",
    "        if type(index) == int:\n",
    "            return (\n",
    "                self.data[\n",
    "                    self.mappingArray[index] : self.mappingArray[index]\n",
    "                    + self.context_length\n",
    "                ],\n",
    "                self.data[\n",
    "                    self.mappingArray[index]\n",
    "                    + 1 : self.mappingArray[index]\n",
    "                    + self.context_length\n",
    "                    + 1\n",
    "                ],\n",
    "            )\n",
    "        elif type(index) == slice:\n",
    "            Lx = []\n",
    "            Ly = []\n",
    "            for k in range(index.start or 0, index.stop or len(self), index.step or 1):\n",
    "                x, y = self[k]\n",
    "                Lx.append(x)\n",
    "                Ly.append(y)\n",
    "            return torch.stack(Lx), torch.stack(Ly)\n",
    "        "
   ]
  },
  {
   "cell_type": "code",
   "execution_count": 5,
   "metadata": {},
   "outputs": [],
   "source": [
    "textChunksDataset = TextChunksDataset(raw_data, 8, tokenizer)"
   ]
  },
  {
   "cell_type": "code",
   "execution_count": 6,
   "metadata": {},
   "outputs": [
    {
     "name": "stdout",
     "output_type": "stream",
     "text": [
      " underst -> understa\n",
      "understa -> nderstan\n",
      "nderstan -> derstand\n",
      "derstand -> erstand \n",
      "erstand  -> rstand t\n",
      "rstand t -> stand th\n",
      "stand th -> tand thi\n",
      "tand thi -> and this\n",
      "and this -> nd this,\n",
      "nd this, -> d this,\n",
      "\n"
     ]
    }
   ],
   "source": [
    "for i in range(600,610):\n",
    "    print(tokenizer.decodeText(textChunksDataset[i][0]),\"->\",tokenizer.decodeText(textChunksDataset[i][1]))"
   ]
  },
  {
   "cell_type": "markdown",
   "metadata": {},
   "source": [
    "This is the code implemented in `lib/utils/datasets.py`"
   ]
  },
  {
   "cell_type": "code",
   "execution_count": 7,
   "metadata": {},
   "outputs": [],
   "source": [
    "from utils.datasets import TextChunksDataset"
   ]
  },
  {
   "cell_type": "markdown",
   "metadata": {},
   "source": [
    "## Setting Hyperparameters"
   ]
  },
  {
   "cell_type": "code",
   "execution_count": 8,
   "metadata": {},
   "outputs": [],
   "source": [
    "# The max block size (also known as max context) [in tokens]\n",
    "block_size = 8\n",
    "\n",
    "# How much does the test/validation set represent of the total data\n",
    "test_train_split_ratio = 0.1"
   ]
  },
  {
   "cell_type": "code",
   "execution_count": 9,
   "metadata": {},
   "outputs": [],
   "source": [
    "data = TextChunksDataset(raw_data, block_size, tokenizer)"
   ]
  },
  {
   "cell_type": "code",
   "execution_count": 10,
   "metadata": {},
   "outputs": [],
   "source": [
    "def split_dataset(data,ratio):\n",
    "    \"\"\"\n",
    "    Returns (train,test)\n",
    "    \"\"\"\n",
    "    if type(data)==list:\n",
    "        data = torch.cat(data)\n",
    "        n = int(len(data)*ratio)\n",
    "        return data[n:], data[:n]\n",
    "    elif type(data)==TextChunksDataset:\n",
    "        n = int(len(data)*ratio)\n",
    "        train_data = TextChunksDataset(\"\",data.context_length)\n",
    "        test_data = TextChunksDataset(\"\",data.context_length)\n",
    "        train_data.data = data.data\n",
    "        train_data.tokenizer = data.tokenizer\n",
    "        test_data.data = data.data\n",
    "        test_data.tokenizer = data.tokenizer\n",
    "        train_data.mappingArray = data.mappingArray[n:]\n",
    "        test_data.mappingArray = data.mappingArray[:n]\n",
    "        return train_data, test_data\n",
    "    \n",
    "        "
   ]
  },
  {
   "cell_type": "code",
   "execution_count": 11,
   "metadata": {},
   "outputs": [
    {
     "name": "stdout",
     "output_type": "stream",
     "text": [
      "TextChunksDataset(length: 51633,context_length: 8)\n",
      "TextChunksDataset(length: 5737,context_length: 8)\n"
     ]
    }
   ],
   "source": [
    "train, test = split_dataset(data,0.1)\n",
    "print(train)\n",
    "print(test)"
   ]
  },
  {
   "cell_type": "markdown",
   "metadata": {},
   "source": [
    "This is the code implemented in `lib/utils/datasets.py`"
   ]
  },
  {
   "cell_type": "code",
   "execution_count": 12,
   "metadata": {},
   "outputs": [],
   "source": [
    "from utils.datasets import split_dataset"
   ]
  },
  {
   "cell_type": "code",
   "execution_count": 13,
   "metadata": {},
   "outputs": [
    {
     "data": {
      "text/plain": [
       "' to feel'"
      ]
     },
     "execution_count": 13,
     "metadata": {},
     "output_type": "execute_result"
    }
   ],
   "source": [
    "tokenizer.decodeText(train[45000][0])"
   ]
  },
  {
   "cell_type": "markdown",
   "metadata": {},
   "source": [
    "## Get random batches"
   ]
  },
  {
   "cell_type": "code",
   "execution_count": 14,
   "metadata": {},
   "outputs": [],
   "source": [
    "def get_batch(data: Dataset, batch_size: int):\n",
    "    ix = torch.randint(len(data), (batch_size,))\n",
    "    L = data[ix]\n",
    "    x = torch.stack([x for x in L[0]])\n",
    "    y = torch.stack([x for x in L[1]])\n",
    "    return x, y\n"
   ]
  },
  {
   "cell_type": "code",
   "execution_count": 15,
   "metadata": {},
   "outputs": [
    {
     "data": {
      "text/plain": [
       "<torch._C.Generator at 0x107e27670>"
      ]
     },
     "execution_count": 15,
     "metadata": {},
     "output_type": "execute_result"
    }
   ],
   "source": [
    "torch.manual_seed(56)"
   ]
  },
  {
   "cell_type": "code",
   "execution_count": 16,
   "metadata": {},
   "outputs": [
    {
     "data": {
      "text/plain": [
       "(tensor([[72, 60, 61, 66, 59,  1, 53, 71],\n",
       "         [ 1, 72, 67,  1, 54, 57,  1, 56],\n",
       "         [66, 59, 25,  0,  0, 28, 67, 67],\n",
       "         [ 0,  0, 44, 40, 38, 30, 45, 33],\n",
       "         [72,  1, 71, 72, 53, 77,  1, 53]]),\n",
       " tensor([[60, 61, 66, 59,  1, 53, 71,  1],\n",
       "         [72, 67,  1, 54, 57,  1, 56, 61],\n",
       "         [59, 25,  0,  0, 28, 67, 67, 64],\n",
       "         [ 0, 44, 40, 38, 30, 45, 33, 34],\n",
       "         [ 1, 71, 72, 53, 77,  1, 53,  1]]))"
      ]
     },
     "execution_count": 16,
     "metadata": {},
     "output_type": "execute_result"
    }
   ],
   "source": [
    "\n",
    "get_batch(train, 5)"
   ]
  },
  {
   "cell_type": "markdown",
   "metadata": {},
   "source": [
    "This function is now available in `lib/utils/datasets.py` as well"
   ]
  },
  {
   "cell_type": "code",
   "execution_count": 17,
   "metadata": {},
   "outputs": [],
   "source": [
    "from utils.datasets import get_batch"
   ]
  }
 ],
 "metadata": {
  "kernelspec": {
   "display_name": ".venv",
   "language": "python",
   "name": "python3"
  },
  "language_info": {
   "codemirror_mode": {
    "name": "ipython",
    "version": 3
   },
   "file_extension": ".py",
   "mimetype": "text/x-python",
   "name": "python",
   "nbconvert_exporter": "python",
   "pygments_lexer": "ipython3",
   "version": "3.12.4"
  }
 },
 "nbformat": 4,
 "nbformat_minor": 2
}
